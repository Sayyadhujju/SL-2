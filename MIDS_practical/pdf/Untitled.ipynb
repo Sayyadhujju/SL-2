{
 "cells": [
  {
   "cell_type": "code",
   "execution_count": 7,
   "id": "98876bdd-e3b0-4c60-8c19-88dd82f99687",
   "metadata": {},
   "outputs": [
    {
     "ename": "NameError",
     "evalue": "name 'coords' is not defined",
     "output_type": "error",
     "traceback": [
      "\u001b[1;31m---------------------------------------------------------------------------\u001b[0m",
      "\u001b[1;31mNameError\u001b[0m                                 Traceback (most recent call last)",
      "Cell \u001b[1;32mIn[7], line 20\u001b[0m\n\u001b[0;32m     17\u001b[0m             clusters[\u001b[38;5;124m\"\u001b[39m\u001b[38;5;124mC2\u001b[39m\u001b[38;5;124m\"\u001b[39m]\u001b[38;5;241m.\u001b[39mappend(point)\n\u001b[0;32m     19\u001b[0m     \u001b[38;5;28;01mreturn\u001b[39;00m cluster\n\u001b[1;32m---> 20\u001b[0m clusters \u001b[38;5;241m=\u001b[39m \u001b[43massign_clusters\u001b[49m\u001b[43m(\u001b[49m\u001b[43mm1\u001b[49m\u001b[43m,\u001b[49m\u001b[43m \u001b[49m\u001b[43mm2\u001b[49m\u001b[43m)\u001b[49m\n\u001b[0;32m     21\u001b[0m \u001b[38;5;28;01mdef\u001b[39;00m\u001b[38;5;250m \u001b[39m\u001b[38;5;21mcompute_new_centroid\u001b[39m(cluster_points):\n\u001b[0;32m     22\u001b[0m     \u001b[38;5;28;01mif\u001b[39;00m \u001b[38;5;129;01mnot\u001b[39;00m cluster_points:\n",
      "Cell \u001b[1;32mIn[7], line 12\u001b[0m, in \u001b[0;36massign_clusters\u001b[1;34m(m1, m2)\u001b[0m\n\u001b[0;32m     10\u001b[0m clusters\u001b[38;5;241m=\u001b[39m{\u001b[38;5;124m\"\u001b[39m\u001b[38;5;124mC1\u001b[39m\u001b[38;5;124m\"\u001b[39m:[],\u001b[38;5;124m\"\u001b[39m\u001b[38;5;124mC2\u001b[39m\u001b[38;5;124m\"\u001b[39m:[]}\n\u001b[0;32m     11\u001b[0m \u001b[38;5;28;01mfor\u001b[39;00m point,coord \u001b[38;5;129;01min\u001b[39;00m points\u001b[38;5;241m.\u001b[39mitems():\n\u001b[1;32m---> 12\u001b[0m     d1 \u001b[38;5;241m=\u001b[39m euclidean_distance(\u001b[43mcoords\u001b[49m, m1)\n\u001b[0;32m     13\u001b[0m     d2 \u001b[38;5;241m=\u001b[39m euclidean_distance(coords, m2)\n\u001b[0;32m     14\u001b[0m     \u001b[38;5;28;01mif\u001b[39;00m d1\u001b[38;5;241m<\u001b[39md2:\n",
      "\u001b[1;31mNameError\u001b[0m: name 'coords' is not defined"
     ]
    }
   ],
   "source": [
    "import numpy as np\n",
    "points={ \"p1\":[0.1,0.6],\"p2\":[0.15,0.71],\"p3\":[0.08,0.9],\"p4\":[0.16,0.85],\"p5\":[0.2,0.3],\"p6\":[0.25,0.5],\"p7\":[0.24,0.1],\"p8\":[0.3,0.2]}\n",
    "\n",
    "m1=np.array(points[\"p1\"])\n",
    "m2=np.array(points[\"p2\"])\n",
    "\n",
    "def euclidean_distance(p1,p2):\n",
    "    return np.sqrt(np.sum(np.array(p1)-np.array(p2)**2))\n",
    "def assign_clusters(m1,m2):\n",
    "    clusters={\"C1\":[],\"C2\":[]}\n",
    "    for point,coord in points.items():\n",
    "        d1 = euclidean_distance(coords, m1)\n",
    "        d2 = euclidean_distance(coords, m2)\n",
    "        if d1<d2:\n",
    "            clusters[\"C1\"].append(point)\n",
    "        else:\n",
    "            clusters[\"C2\"].append(point)\n",
    "\n",
    "    return cluster\n",
    "clusters = assign_clusters(m1, m2)\n",
    "def compute_new_centroid(cluster_points):\n",
    "    if not cluster_points:\n",
    "        return None\n",
    "    cluster_coords = [points[p] for p in cluster_points]\n",
    "    return np.mean(cluster_coords, axis=0)   \n",
    "        \n",
    "new_m1=compute_new_centroid(clusters[\"C1\"])\n",
    "new_m2=compute_new_centroid(clusters[\"C2\"])\n",
    "\n",
    "p6_cluster=\"C1\" if \"p6\" in clusters[\"C1\"] else \"C2\"\n",
    "population_C2=len(clusters[\"C2\"])\n",
    "\n",
    "print(\"Kmeans clustering Results:\")\n",
    "print(f\" P6 belongs to cluster:{P6_cluster}\")\n",
    "print(f\" population around m2(C2):{population_C2}\")\n",
    "print(f\"Updated Centroid:\\n m1={new_m1}\\n m2={new_m2}\")\n",
    "\n",
    "print(\"\\n final cluster assignments:\")\n",
    "print(f\"C1 (cluster 1):{clusters['C1']}\")\n",
    "print(f\"C2 (Cluster 2):{clusters['C2']}\")"
   ]
  },
  {
   "cell_type": "code",
   "execution_count": null,
   "id": "908f855c-b367-4100-bc0d-ce574c46e1e6",
   "metadata": {},
   "outputs": [],
   "source": []
  }
 ],
 "metadata": {
  "kernelspec": {
   "display_name": "Python 3 (ipykernel)",
   "language": "python",
   "name": "python3"
  },
  "language_info": {
   "codemirror_mode": {
    "name": "ipython",
    "version": 3
   },
   "file_extension": ".py",
   "mimetype": "text/x-python",
   "name": "python",
   "nbconvert_exporter": "python",
   "pygments_lexer": "ipython3",
   "version": "3.10.0"
  }
 },
 "nbformat": 4,
 "nbformat_minor": 5
}
