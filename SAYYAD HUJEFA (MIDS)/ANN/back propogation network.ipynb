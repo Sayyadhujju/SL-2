{
 "cells": [
  {
   "cell_type": "code",
   "execution_count": 44,
   "id": "5fcad5ee-a2f9-4e86-9509-04c2b120bc45",
   "metadata": {},
   "outputs": [
    {
     "name": "stdout",
     "output_type": "stream",
     "text": [
      "Input:[1 0] Output:[1.] Target:[1]\n",
      "Input:[0 1] Output:[1.] Target:[1]\n",
      "Input:[1 1] Output:[0.] Target:[0]\n",
      "Input:[0 0] Output:[0.] Target:[0]\n"
     ]
    }
   ],
   "source": [
    "import numpy as np\n",
    "\n",
    "def sigmoid(x):\n",
    "    return 1 / (1 + np.exp(-x))\n",
    "\n",
    "def sigmoid_derivative(x):\n",
    "    return sigmoid(x) * (1 - sigmoid(x))# this is use in backpropogation\n",
    "\n",
    "def xor(inputs):\n",
    "    return np.array([int(inputs[0] != inputs[1])])#to give xor input\n",
    "\n",
    "input_data = np.array([[0, 0], [0, 1], [1, 0], [1, 1], [0, 0], [0, 1], [1, 0], [1, 1]])\n",
    "target_data = np.array([[0], [1], [1], [0], [0], [1], [1], [0]])\n",
    "\n",
    "input_size = 2\n",
    "hidden_size = 8\n",
    "output_size = 1\n",
    "hidden_weights = np.random.uniform(size=(input_size, hidden_size))\n",
    "output_weights = np.random.uniform(size=(hidden_size, output_size))\n",
    "\n",
    "\n",
    "learning_rate = 0.1\n",
    "epochs = 6000\n",
    "\n",
    "\n",
    "for epoch in range(epochs):\n",
    "    hidden_layer = sigmoid(np.dot(input_data, hidden_weights))\n",
    "    output_layer = sigmoid(np.dot(hidden_layer, output_weights))\n",
    "    \n",
    "    \n",
    "    output_error = target_data - output_layer\n",
    "    output_delta = output_error * sigmoid_derivative(output_layer)\n",
    "    hidden_error = output_delta.dot(output_weights.T)\n",
    "    hidden_delta = hidden_error * sigmoid_derivative(hidden_layer)\n",
    "    \n",
    "    \n",
    "    output_weights += hidden_layer.T.dot(output_delta) * learning_rate\n",
    "    hidden_weights += input_data.T.dot(hidden_delta) * learning_rate\n",
    "\n",
    "test_input = np.array([[1, 0], [0, 1], [1, 1], [0, 0]])\n",
    "\n",
    "for i in range(len(test_input)):\n",
    "    prediction = sigmoid(np.dot(sigmoid(np.dot(test_input[i], hidden_weights)), output_weights))\n",
    "    print(f\"Input:{test_input[i]} Output:{prediction.round()} Target:{xor(test_input[i])}\")\n"
   ]
  },
  {
   "cell_type": "code",
   "execution_count": null,
   "id": "082e2ec7-150b-4d7d-aa0d-ff04c61b63df",
   "metadata": {},
   "outputs": [],
   "source": []
  }
 ],
 "metadata": {
  "kernelspec": {
   "display_name": "Python 3 (ipykernel)",
   "language": "python",
   "name": "python3"
  },
  "language_info": {
   "codemirror_mode": {
    "name": "ipython",
    "version": 3
   },
   "file_extension": ".py",
   "mimetype": "text/x-python",
   "name": "python",
   "nbconvert_exporter": "python",
   "pygments_lexer": "ipython3",
   "version": "3.13.2"
  }
 },
 "nbformat": 4,
 "nbformat_minor": 5
}
