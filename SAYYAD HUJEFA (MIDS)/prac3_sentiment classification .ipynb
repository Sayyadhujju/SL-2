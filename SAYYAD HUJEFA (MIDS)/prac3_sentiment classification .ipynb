{
 "cells": [
  {
   "cell_type": "code",
   "execution_count": 1,
   "id": "6a14b914-1068-4404-bb06-a4480c349ca3",
   "metadata": {},
   "outputs": [
    {
     "name": "stdout",
     "output_type": "stream",
     "text": [
      "neutral document\n"
     ]
    }
   ],
   "source": [
    "positive_words={\"good\",\"happy\",\"excellent\",\"awesome\",\"fantastic\",\"positive\",\n",
    "                \"love\",\"great\",\"nice\",\"amazing\"}\n",
    "negative_words={\"bad\",\"sad\",\"terrible\",\"awful\",\"worst\",\"negative\",\"hate\",\"poor\",\n",
    "                \"horrible\",\"dispointing\"}\n",
    "\n",
    "def classify_document(text):\n",
    "    words=text.lower().split()\n",
    "    positive_count=sum(1 for word in words if word in positive_words)\n",
    "    negative_count=sum(1 for word in words if word in negative_words)\n",
    "    if positive_count>negative_count:\n",
    "        return\"positive document\"\n",
    "    elif negative_count>positive_count:\n",
    "        return\"negative document\"\n",
    "    else:\n",
    "        return\"neutral document\"\n",
    "document=\"The movie was amazing and fantastic,but had some awful movements.\"\n",
    "result=classify_document(document)\n",
    "print(result)\n",
    "    "
   ]
  },
  {
   "cell_type": "code",
   "execution_count": null,
   "id": "1b5817a4-8d8e-4414-b47e-5cd357550283",
   "metadata": {},
   "outputs": [],
   "source": []
  }
 ],
 "metadata": {
  "kernelspec": {
   "display_name": "Python 3 (ipykernel)",
   "language": "python",
   "name": "python3"
  },
  "language_info": {
   "codemirror_mode": {
    "name": "ipython",
    "version": 3
   },
   "file_extension": ".py",
   "mimetype": "text/x-python",
   "name": "python",
   "nbconvert_exporter": "python",
   "pygments_lexer": "ipython3",
   "version": "3.13.2"
  }
 },
 "nbformat": 4,
 "nbformat_minor": 5
}
