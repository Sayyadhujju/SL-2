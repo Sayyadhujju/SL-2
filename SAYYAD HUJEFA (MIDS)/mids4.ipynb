{
 "cells": [
  {
   "cell_type": "code",
   "execution_count": 2,
   "id": "c8fc3277-9a3f-42f1-b833-cfbf5aebee11",
   "metadata": {},
   "outputs": [],
   "source": [
    "from sklearn.cluster import KMeans\n",
    "import numpy as  np"
   ]
  },
  {
   "cell_type": "code",
   "execution_count": null,
   "id": "616046cc-2085-4294-988f-b185bc97c788",
   "metadata": {},
   "outputs": [],
   "source": [
    " X=np.array([[0.1,0.6],[0.15,0.71"
   ]
  }
 ],
 "metadata": {
  "kernelspec": {
   "display_name": "Python 3 (ipykernel)",
   "language": "python",
   "name": "python3"
  },
  "language_info": {
   "codemirror_mode": {
    "name": "ipython",
    "version": 3
   },
   "file_extension": ".py",
   "mimetype": "text/x-python",
   "name": "python",
   "nbconvert_exporter": "python",
   "pygments_lexer": "ipython3",
   "version": "3.13.2"
  }
 },
 "nbformat": 4,
 "nbformat_minor": 5
}
