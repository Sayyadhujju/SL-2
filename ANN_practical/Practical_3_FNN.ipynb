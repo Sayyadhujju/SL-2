{
 "cells": [
  {
   "cell_type": "code",
   "execution_count": 3,
   "id": "d6428b39-b952-4eac-af2c-6f4fb182fd32",
   "metadata": {},
   "outputs": [],
   "source": [
    "import numpy as np\n"
   ]
  },
  {
   "cell_type": "code",
   "execution_count": null,
   "id": "0355585f-cd45-4323-9363-7a89428a97ee",
   "metadata": {},
   "outputs": [],
   "source": [
    "def sigmoid(x):\n",
    "    return 1 / (1+np.exp(-x))\n",
    "def sigmoid_derivative(x):\n",
    "    return x*(1-x)\n",
    "class NeuralNetwork:\n",
    "    def __init__(self,input_size,hidden_size,output_size):\n",
    "        self.weights1=np.random.randn(input_size,hidden_size)\n",
    "        self.weights2=np.random.randn(hidden_size,output_size)\n",
    "        self.bias1=np.random.randn(1,hidden_size)\n",
    "        self.bias2=np.random.randn(1,output_size)\n",
    "    def feedforward(self,x):\n",
    "        self.layer1=sigmoid(np.dot(x,self.weights1)+self.bias1)\n",
    "        self.layer2=sigmoid(np.dot(self.layer1,self.weights2)+self.bias2)\n",
    "        return self.layer2\n",
    "    def backpropagation(self,x,y,learning_rate):\n",
    "        error=y-self.layer2\n",
    "        delta2=error*sigmoid_derivative(self.layer2)\n",
    "        delta1=np.dot(delta2,self.weights2.T)*sigmoid_derivative(self.layer1)\n",
    "        d_weights2=np.dot(self.layer1.T,delta2)\n",
    "        d_weights1=np.dot(x.T,delta1)\n",
    "        d_bias2=np.sum(delta2,axis=0,keepdims=True)\n",
    "        d_bias1=np.sum(delta1,axis=0,keepdims=True)\n",
    "        self.weights2 +=learning_rate*d_weights2\n",
    "        self.weights1 +=learning_rate*d_weights1\n",
    "        self.bias2 +=learning_rate*d_bias2\n",
    "        self.bias1 +=learning_rate*d_bias1\n",
    "\n",
    "    def train(self,x_train,y_train,learning_rate,epochs):\n",
    "        for i in range(epochs):\n",
    "            for x,y in zip(x_train,y_train):\n",
    "                output=self.feedforward(x.reshape(1,-1))\n",
    "                self.backpropagation(x.reshape(1,-1),y.reshape(1,-1),learning_rate)\n",
    "                print(f\"Epoch{i+1}:Loss{np.mean(np.square(y_train-self.feedforward(x_train)))}\")\n",
    "nn=NeuralNetwork(2,2,1)\n",
    "\n",
    "x_train=np.array([[0,0],[0,1],[1,0],[1,1]])\n",
    "y_train=np.array([[0],[1],[1],[0]])\n",
    "nn.train(x_train,y_train,0.1,1000)\n",
    "\n",
    "x_test=np.array([[0,1],[1,0],[1,1],[0,0]])\n",
    "print()\n",
    "print(nn.feedforward(x_test))"
   ]
  },
  {
   "cell_type": "code",
   "execution_count": null,
   "id": "6303523f-252d-4239-9684-d999795346c2",
   "metadata": {},
   "outputs": [],
   "source": []
  }
 ],
 "metadata": {
  "kernelspec": {
   "display_name": "Python 3 (ipykernel)",
   "language": "python",
   "name": "python3"
  },
  "language_info": {
   "codemirror_mode": {
    "name": "ipython",
    "version": 3
   },
   "file_extension": ".py",
   "mimetype": "text/x-python",
   "name": "python",
   "nbconvert_exporter": "python",
   "pygments_lexer": "ipython3",
   "version": "3.10.0"
  }
 },
 "nbformat": 4,
 "nbformat_minor": 5
}
